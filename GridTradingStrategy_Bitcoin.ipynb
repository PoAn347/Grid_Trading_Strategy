{
 "cells": [
  {
   "cell_type": "markdown",
   "id": "5c311246",
   "metadata": {},
   "source": [
    "Import packages and data"
   ]
  },
  {
   "cell_type": "code",
   "execution_count": 1,
   "id": "9eb305bc",
   "metadata": {},
   "outputs": [],
   "source": [
    "import pandas as pd\n",
    "import numpy as np\n",
    "import talib as ta\n",
    "import matplotlib.pyplot as plt\n",
    "import matplotlib as mpl\n",
    "import yfinance as yf\n",
    "import mplfinance as mpf"
   ]
  },
  {
   "cell_type": "code",
   "execution_count": 2,
   "id": "b2116575",
   "metadata": {},
   "outputs": [],
   "source": [
    "from Historic_Crypto import HistoricalData\n",
    "from Historic_Crypto import Cryptocurrencies\n",
    "from Historic_Crypto import LiveCryptoData"
   ]
  },
  {
   "cell_type": "markdown",
   "id": "e41bca2c",
   "metadata": {},
   "source": [
    "Import Bitcoin data in hour unit"
   ]
  },
  {
   "cell_type": "code",
   "execution_count": 3,
   "id": "f3a0a294",
   "metadata": {},
   "outputs": [
    {
     "name": "stdout",
     "output_type": "stream",
     "text": [
      "Checking input parameters are in the correct format.\n",
      "Formatting Dates.\n",
      "Checking if user supplied is available on the CoinBase Pro API.\n",
      "Connected to the CoinBase Pro API.\n",
      "Ticker 'BTC-USD' found at the CoinBase Pro API, continuing to extraction.\n",
      "Provisional Start: 2023-01-01T00:00:00\n",
      "Provisional End: 2023-01-13T12:00:00\n",
      "Data for chunk 1 of 25 extracted\n"
     ]
    },
    {
     "name": "stderr",
     "output_type": "stream",
     "text": [
      "c:\\Users\\bert0\\OneDrive\\文件\\quantcc\\env_ds_39\\lib\\site-packages\\Historic_Crypto\\HistoricalData.py:176: FutureWarning: The frame.append method is deprecated and will be removed from pandas in a future version. Use pandas.concat instead.\n",
      "  data = data.append(dataset)\n"
     ]
    },
    {
     "name": "stdout",
     "output_type": "stream",
     "text": [
      "Provisional Start: 2023-01-13T12:00:00\n",
      "Provisional End: 2023-01-26T00:00:00\n",
      "Data for chunk 2 of 25 extracted\n",
      "Provisional Start: 2023-01-26T00:00:00\n",
      "Provisional End: 2023-02-07T12:00:00\n",
      "Data for chunk 3 of 25 extracted\n",
      "Provisional Start: 2023-02-07T12:00:00\n",
      "Provisional End: 2023-02-20T00:00:00\n",
      "Data for chunk 4 of 25 extracted\n"
     ]
    },
    {
     "name": "stderr",
     "output_type": "stream",
     "text": [
      "c:\\Users\\bert0\\OneDrive\\文件\\quantcc\\env_ds_39\\lib\\site-packages\\Historic_Crypto\\HistoricalData.py:176: FutureWarning: The frame.append method is deprecated and will be removed from pandas in a future version. Use pandas.concat instead.\n",
      "  data = data.append(dataset)\n"
     ]
    },
    {
     "name": "stdout",
     "output_type": "stream",
     "text": [
      "Provisional Start: 2023-02-20T00:00:00\n",
      "Provisional End: 2023-03-04T12:00:00\n",
      "Data for chunk 5 of 25 extracted\n"
     ]
    },
    {
     "name": "stderr",
     "output_type": "stream",
     "text": [
      "c:\\Users\\bert0\\OneDrive\\文件\\quantcc\\env_ds_39\\lib\\site-packages\\Historic_Crypto\\HistoricalData.py:176: FutureWarning: The frame.append method is deprecated and will be removed from pandas in a future version. Use pandas.concat instead.\n",
      "  data = data.append(dataset)\n"
     ]
    },
    {
     "name": "stdout",
     "output_type": "stream",
     "text": [
      "Provisional Start: 2023-03-04T12:00:00\n",
      "Provisional End: 2023-03-17T00:00:00\n",
      "Data for chunk 6 of 25 extracted\n"
     ]
    },
    {
     "name": "stderr",
     "output_type": "stream",
     "text": [
      "c:\\Users\\bert0\\OneDrive\\文件\\quantcc\\env_ds_39\\lib\\site-packages\\Historic_Crypto\\HistoricalData.py:176: FutureWarning: The frame.append method is deprecated and will be removed from pandas in a future version. Use pandas.concat instead.\n",
      "  data = data.append(dataset)\n"
     ]
    },
    {
     "name": "stdout",
     "output_type": "stream",
     "text": [
      "Provisional Start: 2023-03-17T00:00:00\n",
      "Provisional End: 2023-03-29T12:00:00\n",
      "Data for chunk 7 of 25 extracted\n"
     ]
    },
    {
     "name": "stderr",
     "output_type": "stream",
     "text": [
      "c:\\Users\\bert0\\OneDrive\\文件\\quantcc\\env_ds_39\\lib\\site-packages\\Historic_Crypto\\HistoricalData.py:176: FutureWarning: The frame.append method is deprecated and will be removed from pandas in a future version. Use pandas.concat instead.\n",
      "  data = data.append(dataset)\n"
     ]
    },
    {
     "name": "stdout",
     "output_type": "stream",
     "text": [
      "Provisional Start: 2023-03-29T12:00:00\n",
      "Provisional End: 2023-04-11T00:00:00\n",
      "Data for chunk 8 of 25 extracted\n",
      "Provisional Start: 2023-04-11T00:00:00\n",
      "Provisional End: 2023-04-23T12:00:00\n"
     ]
    },
    {
     "name": "stderr",
     "output_type": "stream",
     "text": [
      "c:\\Users\\bert0\\OneDrive\\文件\\quantcc\\env_ds_39\\lib\\site-packages\\Historic_Crypto\\HistoricalData.py:176: FutureWarning: The frame.append method is deprecated and will be removed from pandas in a future version. Use pandas.concat instead.\n",
      "  data = data.append(dataset)\n",
      "c:\\Users\\bert0\\OneDrive\\文件\\quantcc\\env_ds_39\\lib\\site-packages\\Historic_Crypto\\HistoricalData.py:176: FutureWarning: The frame.append method is deprecated and will be removed from pandas in a future version. Use pandas.concat instead.\n",
      "  data = data.append(dataset)\n"
     ]
    },
    {
     "name": "stdout",
     "output_type": "stream",
     "text": [
      "Data for chunk 9 of 25 extracted\n",
      "Provisional Start: 2023-04-23T12:00:00\n",
      "Provisional End: 2023-05-06T00:00:00\n",
      "Data for chunk 10 of 25 extracted\n"
     ]
    },
    {
     "name": "stderr",
     "output_type": "stream",
     "text": [
      "c:\\Users\\bert0\\OneDrive\\文件\\quantcc\\env_ds_39\\lib\\site-packages\\Historic_Crypto\\HistoricalData.py:176: FutureWarning: The frame.append method is deprecated and will be removed from pandas in a future version. Use pandas.concat instead.\n",
      "  data = data.append(dataset)\n"
     ]
    },
    {
     "name": "stdout",
     "output_type": "stream",
     "text": [
      "Provisional Start: 2023-05-06T00:00:00\n",
      "Provisional End: 2023-05-18T12:00:00\n",
      "Data for chunk 11 of 25 extracted\n"
     ]
    },
    {
     "name": "stderr",
     "output_type": "stream",
     "text": [
      "c:\\Users\\bert0\\OneDrive\\文件\\quantcc\\env_ds_39\\lib\\site-packages\\Historic_Crypto\\HistoricalData.py:176: FutureWarning: The frame.append method is deprecated and will be removed from pandas in a future version. Use pandas.concat instead.\n",
      "  data = data.append(dataset)\n"
     ]
    },
    {
     "name": "stdout",
     "output_type": "stream",
     "text": [
      "Provisional Start: 2023-05-18T12:00:00\n",
      "Provisional End: 2023-05-31T00:00:00\n",
      "Data for chunk 12 of 25 extracted\n",
      "Provisional Start: 2023-05-31T00:00:00\n",
      "Provisional End: 2023-06-12T12:00:00\n"
     ]
    },
    {
     "name": "stderr",
     "output_type": "stream",
     "text": [
      "c:\\Users\\bert0\\OneDrive\\文件\\quantcc\\env_ds_39\\lib\\site-packages\\Historic_Crypto\\HistoricalData.py:176: FutureWarning: The frame.append method is deprecated and will be removed from pandas in a future version. Use pandas.concat instead.\n",
      "  data = data.append(dataset)\n",
      "c:\\Users\\bert0\\OneDrive\\文件\\quantcc\\env_ds_39\\lib\\site-packages\\Historic_Crypto\\HistoricalData.py:176: FutureWarning: The frame.append method is deprecated and will be removed from pandas in a future version. Use pandas.concat instead.\n",
      "  data = data.append(dataset)\n"
     ]
    },
    {
     "name": "stdout",
     "output_type": "stream",
     "text": [
      "Data for chunk 13 of 25 extracted\n",
      "Provisional Start: 2023-06-12T12:00:00\n",
      "Provisional End: 2023-06-25T00:00:00\n",
      "Data for chunk 14 of 25 extracted\n",
      "Provisional Start: 2023-06-25T00:00:00\n",
      "Provisional End: 2023-07-07T12:00:00\n"
     ]
    },
    {
     "name": "stderr",
     "output_type": "stream",
     "text": [
      "c:\\Users\\bert0\\OneDrive\\文件\\quantcc\\env_ds_39\\lib\\site-packages\\Historic_Crypto\\HistoricalData.py:176: FutureWarning: The frame.append method is deprecated and will be removed from pandas in a future version. Use pandas.concat instead.\n",
      "  data = data.append(dataset)\n",
      "c:\\Users\\bert0\\OneDrive\\文件\\quantcc\\env_ds_39\\lib\\site-packages\\Historic_Crypto\\HistoricalData.py:176: FutureWarning: The frame.append method is deprecated and will be removed from pandas in a future version. Use pandas.concat instead.\n",
      "  data = data.append(dataset)\n"
     ]
    },
    {
     "name": "stdout",
     "output_type": "stream",
     "text": [
      "Data for chunk 15 of 25 extracted\n",
      "Provisional Start: 2023-07-07T12:00:00\n",
      "Provisional End: 2023-07-20T00:00:00\n",
      "Data for chunk 16 of 25 extracted\n"
     ]
    },
    {
     "name": "stderr",
     "output_type": "stream",
     "text": [
      "c:\\Users\\bert0\\OneDrive\\文件\\quantcc\\env_ds_39\\lib\\site-packages\\Historic_Crypto\\HistoricalData.py:176: FutureWarning: The frame.append method is deprecated and will be removed from pandas in a future version. Use pandas.concat instead.\n",
      "  data = data.append(dataset)\n"
     ]
    },
    {
     "name": "stdout",
     "output_type": "stream",
     "text": [
      "Provisional Start: 2023-07-20T00:00:00\n",
      "Provisional End: 2023-08-01T12:00:00\n",
      "Data for chunk 17 of 25 extracted\n"
     ]
    },
    {
     "name": "stderr",
     "output_type": "stream",
     "text": [
      "c:\\Users\\bert0\\OneDrive\\文件\\quantcc\\env_ds_39\\lib\\site-packages\\Historic_Crypto\\HistoricalData.py:176: FutureWarning: The frame.append method is deprecated and will be removed from pandas in a future version. Use pandas.concat instead.\n",
      "  data = data.append(dataset)\n"
     ]
    },
    {
     "name": "stdout",
     "output_type": "stream",
     "text": [
      "Provisional Start: 2023-08-01T12:00:00\n",
      "Provisional End: 2023-08-14T00:00:00\n",
      "Data for chunk 18 of 25 extracted\n",
      "Provisional Start: 2023-08-14T00:00:00\n",
      "Provisional End: 2023-08-26T12:00:00\n",
      "Data for chunk 19 of 25 extracted\n",
      "Provisional Start: 2023-08-26T12:00:00\n",
      "Provisional End: 2023-09-08T00:00:00\n"
     ]
    },
    {
     "name": "stderr",
     "output_type": "stream",
     "text": [
      "c:\\Users\\bert0\\OneDrive\\文件\\quantcc\\env_ds_39\\lib\\site-packages\\Historic_Crypto\\HistoricalData.py:176: FutureWarning: The frame.append method is deprecated and will be removed from pandas in a future version. Use pandas.concat instead.\n",
      "  data = data.append(dataset)\n",
      "c:\\Users\\bert0\\OneDrive\\文件\\quantcc\\env_ds_39\\lib\\site-packages\\Historic_Crypto\\HistoricalData.py:176: FutureWarning: The frame.append method is deprecated and will be removed from pandas in a future version. Use pandas.concat instead.\n",
      "  data = data.append(dataset)\n"
     ]
    },
    {
     "name": "stdout",
     "output_type": "stream",
     "text": [
      "Data for chunk 20 of 25 extracted\n"
     ]
    },
    {
     "name": "stderr",
     "output_type": "stream",
     "text": [
      "c:\\Users\\bert0\\OneDrive\\文件\\quantcc\\env_ds_39\\lib\\site-packages\\Historic_Crypto\\HistoricalData.py:176: FutureWarning: The frame.append method is deprecated and will be removed from pandas in a future version. Use pandas.concat instead.\n",
      "  data = data.append(dataset)\n"
     ]
    },
    {
     "name": "stdout",
     "output_type": "stream",
     "text": [
      "Provisional Start: 2023-09-08T00:00:00\n",
      "Provisional End: 2023-09-20T12:00:00\n",
      "Data for chunk 21 of 25 extracted\n"
     ]
    },
    {
     "name": "stderr",
     "output_type": "stream",
     "text": [
      "c:\\Users\\bert0\\OneDrive\\文件\\quantcc\\env_ds_39\\lib\\site-packages\\Historic_Crypto\\HistoricalData.py:176: FutureWarning: The frame.append method is deprecated and will be removed from pandas in a future version. Use pandas.concat instead.\n",
      "  data = data.append(dataset)\n"
     ]
    },
    {
     "name": "stdout",
     "output_type": "stream",
     "text": [
      "Provisional Start: 2023-09-20T12:00:00\n",
      "Provisional End: 2023-10-03T00:00:00\n",
      "Data for chunk 22 of 25 extracted\n"
     ]
    },
    {
     "name": "stderr",
     "output_type": "stream",
     "text": [
      "c:\\Users\\bert0\\OneDrive\\文件\\quantcc\\env_ds_39\\lib\\site-packages\\Historic_Crypto\\HistoricalData.py:176: FutureWarning: The frame.append method is deprecated and will be removed from pandas in a future version. Use pandas.concat instead.\n",
      "  data = data.append(dataset)\n"
     ]
    },
    {
     "name": "stdout",
     "output_type": "stream",
     "text": [
      "Provisional Start: 2023-10-03T00:00:00\n",
      "Provisional End: 2023-10-15T12:00:00\n",
      "Data for chunk 23 of 25 extracted\n"
     ]
    },
    {
     "name": "stderr",
     "output_type": "stream",
     "text": [
      "c:\\Users\\bert0\\OneDrive\\文件\\quantcc\\env_ds_39\\lib\\site-packages\\Historic_Crypto\\HistoricalData.py:176: FutureWarning: The frame.append method is deprecated and will be removed from pandas in a future version. Use pandas.concat instead.\n",
      "  data = data.append(dataset)\n"
     ]
    },
    {
     "name": "stdout",
     "output_type": "stream",
     "text": [
      "Provisional Start: 2023-10-15T12:00:00\n",
      "Provisional End: 2023-10-28T00:00:00\n",
      "Data for chunk 24 of 25 extracted\n"
     ]
    },
    {
     "name": "stderr",
     "output_type": "stream",
     "text": [
      "c:\\Users\\bert0\\OneDrive\\文件\\quantcc\\env_ds_39\\lib\\site-packages\\Historic_Crypto\\HistoricalData.py:176: FutureWarning: The frame.append method is deprecated and will be removed from pandas in a future version. Use pandas.concat instead.\n",
      "  data = data.append(dataset)\n"
     ]
    },
    {
     "name": "stdout",
     "output_type": "stream",
     "text": [
      "Provisional Start: 2023-10-28T00:00:00\n",
      "Provisional End: 2023-11-09T12:00:00\n",
      "Data for chunk 25 of 25 extracted\n"
     ]
    },
    {
     "name": "stderr",
     "output_type": "stream",
     "text": [
      "c:\\Users\\bert0\\OneDrive\\文件\\quantcc\\env_ds_39\\lib\\site-packages\\Historic_Crypto\\HistoricalData.py:176: FutureWarning: The frame.append method is deprecated and will be removed from pandas in a future version. Use pandas.concat instead.\n",
      "  data = data.append(dataset)\n"
     ]
    }
   ],
   "source": [
    "data = HistoricalData('BTC-USD',3600,'2023-01-01-00-00').retrieve_data()"
   ]
  },
  {
   "cell_type": "code",
   "execution_count": 4,
   "id": "72e3ea1f",
   "metadata": {},
   "outputs": [
    {
     "data": {
      "text/html": [
       "<div>\n",
       "<style scoped>\n",
       "    .dataframe tbody tr th:only-of-type {\n",
       "        vertical-align: middle;\n",
       "    }\n",
       "\n",
       "    .dataframe tbody tr th {\n",
       "        vertical-align: top;\n",
       "    }\n",
       "\n",
       "    .dataframe thead th {\n",
       "        text-align: right;\n",
       "    }\n",
       "</style>\n",
       "<table border=\"1\" class=\"dataframe\">\n",
       "  <thead>\n",
       "    <tr style=\"text-align: right;\">\n",
       "      <th></th>\n",
       "      <th>low</th>\n",
       "      <th>high</th>\n",
       "      <th>open</th>\n",
       "      <th>close</th>\n",
       "      <th>volume</th>\n",
       "    </tr>\n",
       "    <tr>\n",
       "      <th>time</th>\n",
       "      <th></th>\n",
       "      <th></th>\n",
       "      <th></th>\n",
       "      <th></th>\n",
       "      <th></th>\n",
       "    </tr>\n",
       "  </thead>\n",
       "  <tbody>\n",
       "    <tr>\n",
       "      <th>2023-01-01 01:00:00</th>\n",
       "      <td>16517.01</td>\n",
       "      <td>16547.60</td>\n",
       "      <td>16519.84</td>\n",
       "      <td>16542.69</td>\n",
       "      <td>651.374868</td>\n",
       "    </tr>\n",
       "    <tr>\n",
       "      <th>2023-01-01 02:00:00</th>\n",
       "      <td>16528.75</td>\n",
       "      <td>16550.00</td>\n",
       "      <td>16542.70</td>\n",
       "      <td>16538.60</td>\n",
       "      <td>505.074885</td>\n",
       "    </tr>\n",
       "    <tr>\n",
       "      <th>2023-01-01 03:00:00</th>\n",
       "      <td>16510.09</td>\n",
       "      <td>16538.32</td>\n",
       "      <td>16538.32</td>\n",
       "      <td>16523.30</td>\n",
       "      <td>647.605440</td>\n",
       "    </tr>\n",
       "    <tr>\n",
       "      <th>2023-01-01 04:00:00</th>\n",
       "      <td>16502.66</td>\n",
       "      <td>16525.75</td>\n",
       "      <td>16523.91</td>\n",
       "      <td>16511.71</td>\n",
       "      <td>754.661318</td>\n",
       "    </tr>\n",
       "    <tr>\n",
       "      <th>2023-01-01 05:00:00</th>\n",
       "      <td>16503.19</td>\n",
       "      <td>16524.84</td>\n",
       "      <td>16511.69</td>\n",
       "      <td>16521.08</td>\n",
       "      <td>374.486721</td>\n",
       "    </tr>\n",
       "    <tr>\n",
       "      <th>...</th>\n",
       "      <td>...</td>\n",
       "      <td>...</td>\n",
       "      <td>...</td>\n",
       "      <td>...</td>\n",
       "      <td>...</td>\n",
       "    </tr>\n",
       "    <tr>\n",
       "      <th>2023-10-30 11:00:00</th>\n",
       "      <td>34475.17</td>\n",
       "      <td>34667.00</td>\n",
       "      <td>34538.86</td>\n",
       "      <td>34618.85</td>\n",
       "      <td>260.417081</td>\n",
       "    </tr>\n",
       "    <tr>\n",
       "      <th>2023-10-30 12:00:00</th>\n",
       "      <td>34555.81</td>\n",
       "      <td>34871.00</td>\n",
       "      <td>34619.67</td>\n",
       "      <td>34601.19</td>\n",
       "      <td>972.545944</td>\n",
       "    </tr>\n",
       "    <tr>\n",
       "      <th>2023-10-30 13:00:00</th>\n",
       "      <td>34488.44</td>\n",
       "      <td>34784.80</td>\n",
       "      <td>34601.19</td>\n",
       "      <td>34675.57</td>\n",
       "      <td>377.719073</td>\n",
       "    </tr>\n",
       "    <tr>\n",
       "      <th>2023-10-30 14:00:00</th>\n",
       "      <td>34563.50</td>\n",
       "      <td>34854.77</td>\n",
       "      <td>34675.57</td>\n",
       "      <td>34615.30</td>\n",
       "      <td>707.967616</td>\n",
       "    </tr>\n",
       "    <tr>\n",
       "      <th>2023-10-30 15:00:00</th>\n",
       "      <td>34612.65</td>\n",
       "      <td>34774.99</td>\n",
       "      <td>34620.59</td>\n",
       "      <td>34664.56</td>\n",
       "      <td>508.695719</td>\n",
       "    </tr>\n",
       "  </tbody>\n",
       "</table>\n",
       "<p>7259 rows × 5 columns</p>\n",
       "</div>"
      ],
      "text/plain": [
       "                          low      high      open     close      volume\n",
       "time                                                                   \n",
       "2023-01-01 01:00:00  16517.01  16547.60  16519.84  16542.69  651.374868\n",
       "2023-01-01 02:00:00  16528.75  16550.00  16542.70  16538.60  505.074885\n",
       "2023-01-01 03:00:00  16510.09  16538.32  16538.32  16523.30  647.605440\n",
       "2023-01-01 04:00:00  16502.66  16525.75  16523.91  16511.71  754.661318\n",
       "2023-01-01 05:00:00  16503.19  16524.84  16511.69  16521.08  374.486721\n",
       "...                       ...       ...       ...       ...         ...\n",
       "2023-10-30 11:00:00  34475.17  34667.00  34538.86  34618.85  260.417081\n",
       "2023-10-30 12:00:00  34555.81  34871.00  34619.67  34601.19  972.545944\n",
       "2023-10-30 13:00:00  34488.44  34784.80  34601.19  34675.57  377.719073\n",
       "2023-10-30 14:00:00  34563.50  34854.77  34675.57  34615.30  707.967616\n",
       "2023-10-30 15:00:00  34612.65  34774.99  34620.59  34664.56  508.695719\n",
       "\n",
       "[7259 rows x 5 columns]"
      ]
     },
     "execution_count": 4,
     "metadata": {},
     "output_type": "execute_result"
    }
   ],
   "source": [
    "data"
   ]
  },
  {
   "cell_type": "markdown",
   "id": "bf76f9cd",
   "metadata": {},
   "source": [
    "Define function for grid trading strategy"
   ]
  },
  {
   "cell_type": "code",
   "execution_count": 5,
   "id": "7322fda9",
   "metadata": {},
   "outputs": [],
   "source": [
    "# Define dataframe for Bitcoin\n",
    "def getcoin(coin_df ):\n",
    "    df_adj = coin_df.rename(columns={\"close\":\"Close\",\"open\":\"Open\",\"high\":\"High\",\"low\":\"Low\"}).reindex(columns=[ 'Open', 'High', 'Low','Close'])#\n",
    "    return df_adj"
   ]
  },
  {
   "cell_type": "code",
   "execution_count": 6,
   "id": "61834bbe",
   "metadata": {},
   "outputs": [],
   "source": [
    "# Return the list of gridline price\n",
    "def generategridlinelist(buylowest,sellhighest,linenum):\n",
    "    grid_diff = round((sellhighest - buylowest)/(linenum-1),8)\n",
    "    resultlist = []\n",
    "    priceline = buylowest\n",
    "    for i in range(linenum):\n",
    "        resultlist.append(priceline)\n",
    "        priceline += grid_diff\n",
    "    return resultlist"
   ]
  },
  {
   "cell_type": "code",
   "execution_count": 7,
   "id": "3427272f",
   "metadata": {},
   "outputs": [],
   "source": [
    "# Return the index of current price in the gridline list\n",
    "def getportionindex(price,gl):\n",
    "    count = 0\n",
    "    for i in gl:\n",
    "        if price != i and price > i :\n",
    "            count +=1\n",
    "    if price > gl[-1]:\n",
    "        count -= 1\n",
    "    return count"
   ]
  },
  {
   "cell_type": "code",
   "execution_count": 8,
   "id": "fa0e5f40",
   "metadata": {},
   "outputs": [],
   "source": [
    "# Return the total value of Bitcoin and cash\n",
    "def totalasset(Close,stockshare,remain_cash):\n",
    "    return round(stockshare*Close + remain_cash,2)"
   ]
  },
  {
   "cell_type": "code",
   "execution_count": 9,
   "id": "36d4a3b3",
   "metadata": {},
   "outputs": [],
   "source": [
    "#The function returns the price of the grid line price when the close price passes across it, \n",
    "#indicating when a price change triggers the trading of Bitcoin for either buying or selling.\n",
    "def findgridline(close_previous,close_new, gl):\n",
    "    result = 0\n",
    "    for l in gl:\n",
    "        if close_previous < l:\n",
    "            if close_new < l:\n",
    "                break\n",
    "            elif close_new >= l:\n",
    "                result = l\n",
    "        elif close_previous == l:\n",
    "            result = l\n",
    "        elif close_previous > l:\n",
    "            if close_new > l:\n",
    "                continue\n",
    "            elif close_new <= l:\n",
    "                result = l\n",
    "    return result"
   ]
  },
  {
   "cell_type": "markdown",
   "id": "31b2071c",
   "metadata": {},
   "source": [
    "# Data viewing"
   ]
  },
  {
   "cell_type": "code",
   "execution_count": 10,
   "id": "524e5dcf",
   "metadata": {},
   "outputs": [],
   "source": [
    "# Redefine dataframe of Bitcoin\n",
    "data = getcoin(data)"
   ]
  },
  {
   "cell_type": "code",
   "execution_count": 11,
   "id": "305369aa",
   "metadata": {},
   "outputs": [
    {
     "name": "stderr",
     "output_type": "stream",
     "text": [
      "c:\\Users\\bert0\\OneDrive\\文件\\quantcc\\env_ds_39\\lib\\site-packages\\mplfinance\\_arg_validators.py:36: UserWarning: \n",
      "\n",
      " ================================================================= \n",
      "\n",
      "   WARNING: YOU ARE PLOTTING SO MUCH DATA THAT IT MAY NOT BE\n",
      "            POSSIBLE TO SEE DETAILS (Candles, Ohlc-Bars, Etc.)\n",
      "   For more information see:\n",
      "   - https://github.com/matplotlib/mplfinance/wiki/Plotting-Too-Much-Data\n",
      "   \n",
      "   TO SILENCE THIS WARNING, set `type='line'` in `mpf.plot()`\n",
      "   OR set kwarg `warn_too_much_data=N` where N is an integer \n",
      "   LARGER than the number of data points you want to plot.\n",
      "\n",
      " ================================================================ \n",
      "  warnings.warn('\\n\\n ================================================================= '+\n"
     ]
    },
    {
     "data": {
      "image/png": "[encoded data removed]",
      "text/plain": [
       "<Figure size 576x414 with 2 Axes>"
      ]
     },
     "metadata": {
      "needs_background": "light"
     },
     "output_type": "display_data"
    }
   ],
   "source": [
    "# Draw the candle graph\n",
    "mpf.plot(data.iloc[:,:4],type='candle')"
   ]
  },
  {
   "cell_type": "markdown",
   "id": "97aeac02",
   "metadata": {},
   "source": [
    "# Grid Strategy Control Table"
   ]
  },
  {
   "cell_type": "markdown",
   "id": "2f9a2afa",
   "metadata": {},
   "source": [
    "The user can set up parameters for the strategy and examine the profitiability of the strategy:\n",
    "\n",
    "1. The upper and lower bound of this strategy is based on the result of Monte Carlo Simulation.\n",
    "\n",
    "2. The grid line number is based on the frequency of price jumps. I analyze historical price data to identify common price increments and decrements and set your grid lines accordingly. \n",
    "\n",
    "3. Initial principal: $30000 "
   ]
  },
  {
   "cell_type": "code",
   "execution_count": 12,
   "id": "7bdcf7a7",
   "metadata": {},
   "outputs": [],
   "source": [
    "sellhighest = 35000.0\n",
    "buylowest = 20000.0\n",
    "gridlinenum = 31\n",
    "money = 30000"
   ]
  },
  {
   "cell_type": "markdown",
   "id": "c3134047",
   "metadata": {},
   "source": [
    "Calculate and assign parameters and list. The oncoinportion means the portion of the initial principal spends on the bitcoin"
   ]
  },
  {
   "cell_type": "code",
   "execution_count": 13,
   "id": "6e875b75",
   "metadata": {},
   "outputs": [],
   "source": [
    "gridline = generategridlinelist(buylowest,sellhighest,gridlinenum)\n",
    "#cashportion = [i/(gridlinenum-1) for i in range(0,gridlinenum)]\n",
    "oncoinportion = [1-i/(gridlinenum-1)for i in range(0,gridlinenum)]\n",
    "#cashportionlist = [i* money for i in cashportion]\n",
    "oncoinportionlist = [i* money for i in oncoinportion]"
   ]
  },
  {
   "cell_type": "code",
   "execution_count": 14,
   "id": "685dc8ba",
   "metadata": {},
   "outputs": [
    {
     "data": {
      "text/html": [
       "<div>\n",
       "<style scoped>\n",
       "    .dataframe tbody tr th:only-of-type {\n",
       "        vertical-align: middle;\n",
       "    }\n",
       "\n",
       "    .dataframe tbody tr th {\n",
       "        vertical-align: top;\n",
       "    }\n",
       "\n",
       "    .dataframe thead th {\n",
       "        text-align: right;\n",
       "    }\n",
       "</style>\n",
       "<table border=\"1\" class=\"dataframe\">\n",
       "  <thead>\n",
       "    <tr style=\"text-align: right;\">\n",
       "      <th></th>\n",
       "      <th>Close</th>\n",
       "    </tr>\n",
       "    <tr>\n",
       "      <th>time</th>\n",
       "      <th></th>\n",
       "    </tr>\n",
       "  </thead>\n",
       "  <tbody>\n",
       "    <tr>\n",
       "      <th>2023-01-01 01:00:00</th>\n",
       "      <td>16542.69</td>\n",
       "    </tr>\n",
       "    <tr>\n",
       "      <th>2023-01-01 02:00:00</th>\n",
       "      <td>16538.60</td>\n",
       "    </tr>\n",
       "    <tr>\n",
       "      <th>2023-01-01 03:00:00</th>\n",
       "      <td>16523.30</td>\n",
       "    </tr>\n",
       "    <tr>\n",
       "      <th>2023-01-01 04:00:00</th>\n",
       "      <td>16511.71</td>\n",
       "    </tr>\n",
       "    <tr>\n",
       "      <th>2023-01-01 05:00:00</th>\n",
       "      <td>16521.08</td>\n",
       "    </tr>\n",
       "    <tr>\n",
       "      <th>...</th>\n",
       "      <td>...</td>\n",
       "    </tr>\n",
       "    <tr>\n",
       "      <th>2023-10-30 11:00:00</th>\n",
       "      <td>34618.85</td>\n",
       "    </tr>\n",
       "    <tr>\n",
       "      <th>2023-10-30 12:00:00</th>\n",
       "      <td>34601.19</td>\n",
       "    </tr>\n",
       "    <tr>\n",
       "      <th>2023-10-30 13:00:00</th>\n",
       "      <td>34675.57</td>\n",
       "    </tr>\n",
       "    <tr>\n",
       "      <th>2023-10-30 14:00:00</th>\n",
       "      <td>34615.30</td>\n",
       "    </tr>\n",
       "    <tr>\n",
       "      <th>2023-10-30 15:00:00</th>\n",
       "      <td>34664.56</td>\n",
       "    </tr>\n",
       "  </tbody>\n",
       "</table>\n",
       "<p>7259 rows × 1 columns</p>\n",
       "</div>"
      ],
      "text/plain": [
       "                        Close\n",
       "time                         \n",
       "2023-01-01 01:00:00  16542.69\n",
       "2023-01-01 02:00:00  16538.60\n",
       "2023-01-01 03:00:00  16523.30\n",
       "2023-01-01 04:00:00  16511.71\n",
       "2023-01-01 05:00:00  16521.08\n",
       "...                       ...\n",
       "2023-10-30 11:00:00  34618.85\n",
       "2023-10-30 12:00:00  34601.19\n",
       "2023-10-30 13:00:00  34675.57\n",
       "2023-10-30 14:00:00  34615.30\n",
       "2023-10-30 15:00:00  34664.56\n",
       "\n",
       "[7259 rows x 1 columns]"
      ]
     },
     "execution_count": 14,
     "metadata": {},
     "output_type": "execute_result"
    }
   ],
   "source": [
    "#Close price of the bitcoin\n",
    "dftest = pd.DataFrame(data).reindex(columns=['Close'])#columns=[ 'Open', 'Close']\n",
    "dftest"
   ]
  },
  {
   "cell_type": "code",
   "execution_count": 15,
   "id": "af4c4ba6",
   "metadata": {},
   "outputs": [],
   "source": [
    "# Coinprice list shows the price that the close price just passed in two rows of time tick.\n",
    "# Initialize an empty list to store the grid line price or 0 if no grid line was passed.\n",
    "coinprice = []\n",
    "\n",
    "# Check if the close price at the first row (index 0) of dftest is in the gridline list.\n",
    "# If it is, append the close price to the coinprice list; otherwise, append 0.\n",
    "if dftest.Close[0] in gridline:\n",
    "    coinprice.append(dftest.Close[0])\n",
    "else:\n",
    "    coinprice.append(0)\n",
    "\n",
    "# Loop through the rows in dftest, starting from index 1.\n",
    "for i in range(1, len(dftest)):\n",
    "    # Call the findgridline function with the close price from the previous row and the current close price.\n",
    "    # Append the result to the coinprice list.\n",
    "    coinprice.append(findgridline(dftest.Close[i - 1], dftest.Close[i], gridline))\n",
    "\n",
    "# Add a new column 'Coin_Price' to the dftest DataFrame, containing the values from the coinprice list.\n",
    "dftest['Coin_Price'] = coinprice\n"
   ]
  },
  {
   "cell_type": "code",
   "execution_count": 16,
   "id": "1880f318",
   "metadata": {},
   "outputs": [],
   "source": [
    "oncoin = [] # how much money on coin\n",
    "cashflow_oncoin = []\n",
    "coinnum = []\n",
    "lastoc = 0 #last on coin cash value\n",
    "lastcoinnum = 0 # last coin number cash/ price\n",
    "cash = []\n",
    "startposition = 0\n",
    "commission = 0.004\n",
    "for i in dftest.Coin_Price:\n",
    "    if i == 0:\n",
    "        if startposition == 0:\n",
    "            oncoin.append(0)\n",
    "            cashflow_oncoin.append(0)\n",
    "            coinnum.append(0)\n",
    "            cash.append(money)\n",
    "        else:\n",
    "            oncoin.append(oncoinportionlist[portion])\n",
    "            cashflow_oncoin.append(0)\n",
    "            coinnum.append(lastcoinnum)\n",
    "            cash.append(money)\n",
    "            #cash.append(cashportionlist[portion])\n",
    "    else:\n",
    "        # On coin\n",
    "        portion = getportionindex(i,gridline)\n",
    "        oncoin.append(oncoinportionlist[portion])\n",
    "        \n",
    "        # CashFlow\n",
    "        if i != lastoc: # if oncoinportionlist[portion]!= lastoc:\n",
    "            tempcash = oncoinportionlist[portion] - lastoc\n",
    "            cashflow_oncoin.append(tempcash) \n",
    "            lastoc = oncoinportionlist[portion]\n",
    "        else:\n",
    "            cashflow_oncoin.append(0)\n",
    "        \n",
    "        #for \"Coin_Num\" column\n",
    "        if startposition == 0: #which means first buying\n",
    "            lastcoinnum = round(oncoinportionlist[portion]*(1-commission)/i,8)\n",
    "            coinnum.append(lastcoinnum)\n",
    "        else:\n",
    "            if i != lastoc:\n",
    "                if tempcash > 0:\n",
    "                    lastcoinnum = round(tempcash*(1-commission)/i,8) + lastcoinnum\n",
    "                    coinnum.append(lastcoinnum)\n",
    "                else: # mean sell coin, when sell coin the number of selling coin is (commission + 1), which mean small part of coin is selled to get commission\n",
    "                    lastcoinnum = round(tempcash*(1+commission)/i,8) + lastcoinnum\n",
    "                    coinnum.append(lastcoinnum)\n",
    "            else:\n",
    "                coinnum.append(lastcoinnum)\n",
    "        \n",
    "        # for \"Cash\" column\n",
    "        if startposition ==0:\n",
    "            money -= oncoinportionlist[portion]\n",
    "            cash.append(money)\n",
    "        else:\n",
    "            if i != lastoc:\n",
    "                money -= tempcash\n",
    "                cash.append(money)\n",
    "            else:\n",
    "                cash.append(money)\n",
    "            \n",
    "        \n",
    "        startposition = 1\n"
   ]
  },
  {
   "cell_type": "code",
   "execution_count": 17,
   "id": "220d98e7",
   "metadata": {},
   "outputs": [],
   "source": [
    "oncoin = []  # List to track how much money is invested in cryptocurrency\n",
    "cashflow_oncoin = []  # List to track cash flow related to cryptocurrency\n",
    "coinnum = []  # List to track the number of coins held\n",
    "lastoc = 0  # Last value of on-coin cash\n",
    "lastcoinnum = 0  # Last value of coin number (cash divided by price)\n",
    "cash = []  # List to track the available cash\n",
    "startposition = 0  # Flag to indicate the starting position (0 for not started, 1 for started)\n",
    "commission = 0.004  # Commission rate for buying/selling\n",
    "\n",
    "# Iterate through the Coin_Price values in the DataFrame dftest\n",
    "for i in dftest.Coin_Price:\n",
    "    if i == 0:\n",
    "        if startposition == 0:\n",
    "            # If no coins are held, record 0 for on-coin cash, cash flow, coin number, and available cash\n",
    "            oncoin.append(0)\n",
    "            cashflow_oncoin.append(0)\n",
    "            coinnum.append(0)\n",
    "            cash.append(money)\n",
    "        else:\n",
    "            # If there's a position but the Coin_Price is 0, record the on-coin portion, cash flow, coin number,\n",
    "            # and available cash\n",
    "            oncoin.append(oncoinportionlist[portion])\n",
    "            cashflow_oncoin.append(0)\n",
    "            coinnum.append(lastcoinnum)\n",
    "            cash.append(money)\n",
    "    else:\n",
    "        # Calculate values when there's a Coin_Price\n",
    "        portion = getportionindex(i, gridline)  # Calculate the portion based on the grid line\n",
    "\n",
    "        # On-coin cash\n",
    "        oncoin.append(oncoinportionlist[portion])\n",
    "\n",
    "        # Cash Flow\n",
    "        if i != lastoc:\n",
    "            tempcash = oncoinportionlist[portion] - lastoc\n",
    "            cashflow_oncoin.append(tempcash)\n",
    "            lastoc = oncoinportionlist[portion]\n",
    "        else:\n",
    "            cashflow_oncoin.append(0)\n",
    "\n",
    "        # Coin Number\n",
    "        if startposition == 0:\n",
    "            # Calculate the initial coin number when starting a position\n",
    "            lastcoinnum = round(oncoinportionlist[portion] * (1 - commission) / i, 8)\n",
    "            coinnum.append(lastcoinnum)\n",
    "        else:\n",
    "            if i != lastoc:\n",
    "                if tempcash > 0:\n",
    "                    # Buy coin\n",
    "                    lastcoinnum = round(tempcash * (1 - commission) / i, 8) + lastcoinnum\n",
    "                    coinnum.append(lastcoinnum)\n",
    "                else:\n",
    "                    # Sell coin (with commission)\n",
    "                    lastcoinnum = round(tempcash * (1 + commission) / i, 8) + lastcoinnum\n",
    "                    coinnum.append(lastcoinnum)\n",
    "            else:\n",
    "                coinnum.append(lastcoinnum)\n",
    "\n",
    "        # Cash\n",
    "        if startposition == 0:\n",
    "            money -= oncoinportionlist[portion]\n",
    "            cash.append(money)\n",
    "        else:\n",
    "            if i != lastoc:\n",
    "                money -= tempcash\n",
    "                cash.append(money)\n",
    "            else:\n",
    "                cash.append(money)\n",
    "\n",
    "        # Set the start position flag to 1 (indicating that the trading has started)\n",
    "        startposition = 1"
   ]
  },
  {
   "cell_type": "code",
   "execution_count": 18,
   "id": "1f36de7c",
   "metadata": {},
   "outputs": [],
   "source": [
    "# Set up columns for dataframe\n",
    "dftest['On_Coin'] = oncoin\n",
    "dftest['CF_On_Coin'] = cashflow_oncoin\n",
    "dftest[\"Coin_Num\"] = coinnum\n",
    "dftest[\"Cash\"] = cash"
   ]
  },
  {
   "cell_type": "code",
   "execution_count": 19,
   "id": "e8855da9",
   "metadata": {},
   "outputs": [
    {
     "name": "stdout",
     "output_type": "stream",
     "text": [
      "How many trading times in this period? Ans:  214\n"
     ]
    }
   ],
   "source": [
    "# Print the number of trading times in this period\n",
    "# It counts the rows in the DataFrame 'dftest' where the 'CF_On_Coin' column is not equal to 0.\n",
    "# This indicates the number of times a trade was made.\n",
    "print(\"How many trading times in this period? Ans: \", len(dftest[dftest['CF_On_Coin'] != 0]))"
   ]
  },
  {
   "cell_type": "code",
   "execution_count": 20,
   "id": "d5c357f4",
   "metadata": {},
   "outputs": [
    {
     "data": {
      "text/html": [
       "<div>\n",
       "<style scoped>\n",
       "    .dataframe tbody tr th:only-of-type {\n",
       "        vertical-align: middle;\n",
       "    }\n",
       "\n",
       "    .dataframe tbody tr th {\n",
       "        vertical-align: top;\n",
       "    }\n",
       "\n",
       "    .dataframe thead th {\n",
       "        text-align: right;\n",
       "    }\n",
       "</style>\n",
       "<table border=\"1\" class=\"dataframe\">\n",
       "  <thead>\n",
       "    <tr style=\"text-align: right;\">\n",
       "      <th></th>\n",
       "      <th>Close</th>\n",
       "      <th>Coin_Price</th>\n",
       "      <th>On_Coin</th>\n",
       "      <th>CF_On_Coin</th>\n",
       "      <th>Coin_Num</th>\n",
       "      <th>Cash</th>\n",
       "    </tr>\n",
       "    <tr>\n",
       "      <th>time</th>\n",
       "      <th></th>\n",
       "      <th></th>\n",
       "      <th></th>\n",
       "      <th></th>\n",
       "      <th></th>\n",
       "      <th></th>\n",
       "    </tr>\n",
       "  </thead>\n",
       "  <tbody>\n",
       "    <tr>\n",
       "      <th>2023-01-14 00:00:00</th>\n",
       "      <td>20910.05</td>\n",
       "      <td>20500.0</td>\n",
       "      <td>29000.0</td>\n",
       "      <td>29000.0</td>\n",
       "      <td>1.408976</td>\n",
       "      <td>3.637979e-12</td>\n",
       "    </tr>\n",
       "    <tr>\n",
       "      <th>2023-01-14 08:00:00</th>\n",
       "      <td>21007.74</td>\n",
       "      <td>21000.0</td>\n",
       "      <td>28000.0</td>\n",
       "      <td>-1000.0</td>\n",
       "      <td>1.361166</td>\n",
       "      <td>1.000000e+03</td>\n",
       "    </tr>\n",
       "    <tr>\n",
       "      <th>2023-01-20 19:00:00</th>\n",
       "      <td>21500.98</td>\n",
       "      <td>21500.0</td>\n",
       "      <td>27000.0</td>\n",
       "      <td>-1000.0</td>\n",
       "      <td>1.314468</td>\n",
       "      <td>2.000000e+03</td>\n",
       "    </tr>\n",
       "    <tr>\n",
       "      <th>2023-01-20 20:00:00</th>\n",
       "      <td>22299.01</td>\n",
       "      <td>22000.0</td>\n",
       "      <td>26000.0</td>\n",
       "      <td>-1000.0</td>\n",
       "      <td>1.268832</td>\n",
       "      <td>3.000000e+03</td>\n",
       "    </tr>\n",
       "    <tr>\n",
       "      <th>2023-01-20 22:00:00</th>\n",
       "      <td>22594.65</td>\n",
       "      <td>22500.0</td>\n",
       "      <td>25000.0</td>\n",
       "      <td>-1000.0</td>\n",
       "      <td>1.224210</td>\n",
       "      <td>4.000000e+03</td>\n",
       "    </tr>\n",
       "    <tr>\n",
       "      <th>...</th>\n",
       "      <td>...</td>\n",
       "      <td>...</td>\n",
       "      <td>...</td>\n",
       "      <td>...</td>\n",
       "      <td>...</td>\n",
       "      <td>...</td>\n",
       "    </tr>\n",
       "    <tr>\n",
       "      <th>2023-10-24 11:00:00</th>\n",
       "      <td>34552.52</td>\n",
       "      <td>34500.0</td>\n",
       "      <td>1000.0</td>\n",
       "      <td>-1000.0</td>\n",
       "      <td>0.431833</td>\n",
       "      <td>2.800000e+04</td>\n",
       "    </tr>\n",
       "    <tr>\n",
       "      <th>2023-10-24 15:00:00</th>\n",
       "      <td>33669.00</td>\n",
       "      <td>34000.0</td>\n",
       "      <td>2000.0</td>\n",
       "      <td>1000.0</td>\n",
       "      <td>0.461127</td>\n",
       "      <td>2.700000e+04</td>\n",
       "    </tr>\n",
       "    <tr>\n",
       "      <th>2023-10-25 14:00:00</th>\n",
       "      <td>34787.77</td>\n",
       "      <td>34500.0</td>\n",
       "      <td>1000.0</td>\n",
       "      <td>-1000.0</td>\n",
       "      <td>0.432026</td>\n",
       "      <td>2.800000e+04</td>\n",
       "    </tr>\n",
       "    <tr>\n",
       "      <th>2023-10-26 16:00:00</th>\n",
       "      <td>33763.46</td>\n",
       "      <td>34000.0</td>\n",
       "      <td>2000.0</td>\n",
       "      <td>1000.0</td>\n",
       "      <td>0.461320</td>\n",
       "      <td>2.700000e+04</td>\n",
       "    </tr>\n",
       "    <tr>\n",
       "      <th>2023-10-29 17:00:00</th>\n",
       "      <td>34572.53</td>\n",
       "      <td>34500.0</td>\n",
       "      <td>1000.0</td>\n",
       "      <td>-1000.0</td>\n",
       "      <td>0.432218</td>\n",
       "      <td>2.800000e+04</td>\n",
       "    </tr>\n",
       "  </tbody>\n",
       "</table>\n",
       "<p>214 rows × 6 columns</p>\n",
       "</div>"
      ],
      "text/plain": [
       "                        Close  Coin_Price  On_Coin  CF_On_Coin  Coin_Num  \\\n",
       "time                                                                       \n",
       "2023-01-14 00:00:00  20910.05     20500.0  29000.0     29000.0  1.408976   \n",
       "2023-01-14 08:00:00  21007.74     21000.0  28000.0     -1000.0  1.361166   \n",
       "2023-01-20 19:00:00  21500.98     21500.0  27000.0     -1000.0  1.314468   \n",
       "2023-01-20 20:00:00  22299.01     22000.0  26000.0     -1000.0  1.268832   \n",
       "2023-01-20 22:00:00  22594.65     22500.0  25000.0     -1000.0  1.224210   \n",
       "...                       ...         ...      ...         ...       ...   \n",
       "2023-10-24 11:00:00  34552.52     34500.0   1000.0     -1000.0  0.431833   \n",
       "2023-10-24 15:00:00  33669.00     34000.0   2000.0      1000.0  0.461127   \n",
       "2023-10-25 14:00:00  34787.77     34500.0   1000.0     -1000.0  0.432026   \n",
       "2023-10-26 16:00:00  33763.46     34000.0   2000.0      1000.0  0.461320   \n",
       "2023-10-29 17:00:00  34572.53     34500.0   1000.0     -1000.0  0.432218   \n",
       "\n",
       "                             Cash  \n",
       "time                               \n",
       "2023-01-14 00:00:00  3.637979e-12  \n",
       "2023-01-14 08:00:00  1.000000e+03  \n",
       "2023-01-20 19:00:00  2.000000e+03  \n",
       "2023-01-20 20:00:00  3.000000e+03  \n",
       "2023-01-20 22:00:00  4.000000e+03  \n",
       "...                           ...  \n",
       "2023-10-24 11:00:00  2.800000e+04  \n",
       "2023-10-24 15:00:00  2.700000e+04  \n",
       "2023-10-25 14:00:00  2.800000e+04  \n",
       "2023-10-26 16:00:00  2.700000e+04  \n",
       "2023-10-29 17:00:00  2.800000e+04  \n",
       "\n",
       "[214 rows x 6 columns]"
      ]
     },
     "execution_count": 20,
     "metadata": {},
     "output_type": "execute_result"
    }
   ],
   "source": [
    "#List out the trading records\n",
    "dftest[dftest['CF_On_Coin'] != 0]"
   ]
  },
  {
   "cell_type": "code",
   "execution_count": 21,
   "id": "ea69a61a",
   "metadata": {},
   "outputs": [
    {
     "data": {
      "text/plain": [
       "[<matplotlib.lines.Line2D at 0x23ec713b7c0>]"
      ]
     },
     "execution_count": 21,
     "metadata": {},
     "output_type": "execute_result"
    },
    {
     "data": {
      "image/png": "[encoded data removed]",
      "text/plain": [
       "<Figure size 864x576 with 1 Axes>"
      ]
     },
     "metadata": {
      "needs_background": "light"
     },
     "output_type": "display_data"
    }
   ],
   "source": [
    "#dftest\n",
    "plt.figure(figsize=(12,8))\n",
    "plt.plot(totalasset(dftest.Close,dftest.Coin_Num,dftest.Cash))"
   ]
  },
  {
   "cell_type": "code",
   "execution_count": 22,
   "id": "ad6eba23",
   "metadata": {},
   "outputs": [
    {
     "data": {
      "text/plain": [
       "42982.66"
      ]
     },
     "execution_count": 22,
     "metadata": {},
     "output_type": "execute_result"
    }
   ],
   "source": [
    "# The latest total asset value\n",
    "latestAssetValue = totalasset(dftest.Close,dftest.Coin_Num,dftest.Cash)[-1]\n",
    "latestAssetValue"
   ]
  },
  {
   "cell_type": "code",
   "execution_count": 23,
   "id": "c612c44d",
   "metadata": {},
   "outputs": [
    {
     "name": "stdout",
     "output_type": "stream",
     "text": [
      "The return rate is 53.51%\n"
     ]
    }
   ],
   "source": [
    "#The return rate since 2023 for grid trading strategy\n",
    "print(\"The return rate is \" + str(round((latestAssetValue/ money - 1)*100,2)) + \"%\")\n"
   ]
  }
 ],
 "metadata": {
  "kernelspec": {
   "display_name": "env_ds_39",
   "language": "python",
   "name": "python3"
  },
  "language_info": {
   "codemirror_mode": {
    "name": "ipython",
    "version": 3
   },
   "file_extension": ".py",
   "mimetype": "text/x-python",
   "name": "python",
   "nbconvert_exporter": "python",
   "pygments_lexer": "ipython3",
   "version": "3.10.2"
  }
 },
 "nbformat": 4,
 "nbformat_minor": 5
}
